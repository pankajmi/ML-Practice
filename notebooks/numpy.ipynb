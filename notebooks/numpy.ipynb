{
 "cells": [
  {
   "cell_type": "code",
   "execution_count": 5,
   "id": "9b2694a0-8840-4a98-901b-504c4d1a78f1",
   "metadata": {},
   "outputs": [],
   "source": [
    "import numpy as np\n",
    "\n"
   ]
  },
  {
   "cell_type": "code",
   "execution_count": 7,
   "id": "5480d54f-ae8b-438e-9806-f07bbbdb53e2",
   "metadata": {},
   "outputs": [
    {
     "name": "stdout",
     "output_type": "stream",
     "text": [
      "['1' '2' '3' '4' '5' 'test']\n"
     ]
    }
   ],
   "source": [
    "one_dim = np.array([1, 2, 3, 4, 5, \"test\"])\n",
    "print(one_dim)"
   ]
  },
  {
   "cell_type": "code",
   "execution_count": 10,
   "id": "c447d838-edf0-42c8-b0a7-ef2d70c276a3",
   "metadata": {},
   "outputs": [
    {
     "name": "stdout",
     "output_type": "stream",
     "text": [
      "[[1 2]\n",
      " [3 4]]\n"
     ]
    }
   ],
   "source": [
    "two_dim = np.array([ [1,2], [3,4]])\n",
    "print(two_dim)"
   ]
  },
  {
   "cell_type": "code",
   "execution_count": 18,
   "id": "08841727-a715-488e-bb02-dc05cbf3a999",
   "metadata": {},
   "outputs": [
    {
     "name": "stdout",
     "output_type": "stream",
     "text": [
      "[[0. 0. 0.]\n",
      " [0. 0. 0.]]\n",
      "[[[1. 1. 1.]\n",
      "  [1. 1. 1.]]]\n"
     ]
    }
   ],
   "source": [
    "zero_arr = np.zeros([2, 3])\n",
    "one_arr = np.ones([1,2,3])\n",
    "print(zero_arr)\n",
    "print(one_arr)"
   ]
  },
  {
   "cell_type": "code",
   "execution_count": 21,
   "id": "6e4ea6e1-2805-41bb-8c54-1b89e0483693",
   "metadata": {},
   "outputs": [
    {
     "name": "stdout",
     "output_type": "stream",
     "text": [
      "[1 2 3 4]\n"
     ]
    }
   ],
   "source": [
    "sequence_nums = np.arange(1, 5)\n",
    "print(sequence_nums)"
   ]
  },
  {
   "cell_type": "code",
   "execution_count": 33,
   "id": "f5731316-7a8d-4e67-8d56-0a66f7402b91",
   "metadata": {},
   "outputs": [
    {
     "name": "stdout",
     "output_type": "stream",
     "text": [
      "[2 4 3 2 1 3 4 2 4 1 4 2 4 1 4 3 4 2 1 2]\n",
      "(20,)\n",
      "(2, 2)\n"
     ]
    }
   ],
   "source": [
    "rands = np.random.randint(low=1, high=5, size=(20,))\n",
    "print(rands)\n",
    "print(rands.shape)\n",
    "rands = np.random.randint(low=1, high=5, size=(2,2))\n",
    "print(rands.shape)"
   ]
  },
  {
   "cell_type": "code",
   "execution_count": 29,
   "id": "f3dfad15-4373-4fd6-adac-a1b069314a37",
   "metadata": {},
   "outputs": [
    {
     "name": "stdout",
     "output_type": "stream",
     "text": [
      "[ 6  7  8  9 10 11 12 13 14 15 16 17 18 19 20]\n"
     ]
    }
   ],
   "source": [
    "# Task 1\n",
    "feature = np.arange(6, 21)\n",
    "print(feature)"
   ]
  },
  {
   "cell_type": "code",
   "execution_count": 32,
   "id": "0051f893-9c46-45d6-8ff7-c0e26ff2199e",
   "metadata": {},
   "outputs": [
    {
     "name": "stdout",
     "output_type": "stream",
     "text": [
      "[22 25 28 31 34 37 40 43 46 49 52 55 58 61 64]\n"
     ]
    }
   ],
   "source": [
    "label = np.dot(3, feature) + 4\n",
    "# or\n",
    "label = 3 * feature + 4\n",
    "print(label)"
   ]
  },
  {
   "cell_type": "code",
   "execution_count": 40,
   "id": "26ea9bbc-2905-4a98-b677-2f51ad9cbea3",
   "metadata": {},
   "outputs": [
    {
     "name": "stdout",
     "output_type": "stream",
     "text": [
      "[-1.74480987  1.95725488  0.51225377 -1.42723537 -0.68295742  0.44847224\n",
      " -0.14043794  1.66323971 -1.3532901   0.76253586  1.56682238 -1.82089745\n",
      "  1.0438433   0.91353866 -1.3473718 ]\n",
      "[22.40364666 28.82927373 29.17742476 28.82898128 33.07987097 39.18824063\n",
      " 41.95154331 45.85172903 43.62250994 50.68305194 53.55766599 53.95566738\n",
      " 60.8434767  60.64817062 63.36361274]\n"
     ]
    }
   ],
   "source": [
    "# noise = np.random.randint(low=-2.0, high=3.0, size=(15,))\n",
    "# print(noise)\n",
    "# print(label+noise)\n",
    "\n",
    "noise = np.random.random([15])*4-2\n",
    "print(noise)\n",
    "label = label + noise \n",
    "print(label)"
   ]
  },
  {
   "cell_type": "code",
   "execution_count": null,
   "id": "d33089da-d870-419b-b4a4-eec8923d691e",
   "metadata": {},
   "outputs": [],
   "source": []
  }
 ],
 "metadata": {
  "kernelspec": {
   "display_name": "Python 3 (ipykernel)",
   "language": "python",
   "name": "python3"
  },
  "language_info": {
   "codemirror_mode": {
    "name": "ipython",
    "version": 3
   },
   "file_extension": ".py",
   "mimetype": "text/x-python",
   "name": "python",
   "nbconvert_exporter": "python",
   "pygments_lexer": "ipython3",
   "version": "3.12.7"
  }
 },
 "nbformat": 4,
 "nbformat_minor": 5
}
