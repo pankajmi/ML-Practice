{
 "cells": [
  {
   "cell_type": "code",
   "execution_count": 2,
   "id": "ee388756-bd68-44f1-9950-20a3f23facc8",
   "metadata": {},
   "outputs": [
    {
     "name": "stdout",
     "output_type": "stream",
     "text": [
      "Collecting pandas\n",
      "  Downloading pandas-2.2.3-cp312-cp312-macosx_11_0_arm64.whl.metadata (89 kB)\n",
      "Requirement already satisfied: numpy>=1.26.0 in /opt/homebrew/Cellar/jupyterlab/4.3.1/libexec/lib/python3.12/site-packages (from pandas) (2.0.2)\n",
      "Requirement already satisfied: python-dateutil>=2.8.2 in /opt/homebrew/Cellar/jupyterlab/4.3.1/libexec/lib/python3.12/site-packages (from pandas) (2.9.0.post0)\n",
      "Collecting pytz>=2020.1 (from pandas)\n",
      "  Downloading pytz-2024.2-py2.py3-none-any.whl.metadata (22 kB)\n",
      "Collecting tzdata>=2022.7 (from pandas)\n",
      "  Downloading tzdata-2024.2-py2.py3-none-any.whl.metadata (1.4 kB)\n",
      "Requirement already satisfied: six>=1.5 in /opt/homebrew/Cellar/jupyterlab/4.3.1/libexec/lib/python3.12/site-packages (from python-dateutil>=2.8.2->pandas) (1.16.0)\n",
      "Downloading pandas-2.2.3-cp312-cp312-macosx_11_0_arm64.whl (11.4 MB)\n",
      "\u001b[2K   \u001b[38;2;114;156;31m━━━━━━━━━━━━━━━━━━━━━━━━━━━━━━━━━━━━━━━━\u001b[0m \u001b[32m11.4/11.4 MB\u001b[0m \u001b[31m5.2 MB/s\u001b[0m eta \u001b[36m0:00:00\u001b[0m[31m5.2 MB/s\u001b[0m eta \u001b[36m0:00:01\u001b[0m\n",
      "\u001b[?25hDownloading pytz-2024.2-py2.py3-none-any.whl (508 kB)\n",
      "Downloading tzdata-2024.2-py2.py3-none-any.whl (346 kB)\n",
      "Installing collected packages: pytz, tzdata, pandas\n",
      "Successfully installed pandas-2.2.3 pytz-2024.2 tzdata-2024.2\n",
      "\n",
      "\u001b[1m[\u001b[0m\u001b[34;49mnotice\u001b[0m\u001b[1;39;49m]\u001b[0m\u001b[39;49m A new release of pip is available: \u001b[0m\u001b[31;49m24.2\u001b[0m\u001b[39;49m -> \u001b[0m\u001b[32;49m24.3.1\u001b[0m\n",
      "\u001b[1m[\u001b[0m\u001b[34;49mnotice\u001b[0m\u001b[1;39;49m]\u001b[0m\u001b[39;49m To update, run: \u001b[0m\u001b[32;49m/opt/homebrew/Cellar/jupyterlab/4.3.1/libexec/bin/python -m pip install --upgrade pip\u001b[0m\n",
      "Note: you may need to restart the kernel to use updated packages.\n"
     ]
    }
   ],
   "source": [
    "%pip install pandas"
   ]
  },
  {
   "cell_type": "code",
   "execution_count": 4,
   "id": "982e08ab-6260-4df0-ad48-4456e57f7e3a",
   "metadata": {},
   "outputs": [
    {
     "name": "stdout",
     "output_type": "stream",
     "text": [
      "   temp  pressure\n",
      "0     1         2\n",
      "1     3         4\n",
      "2     5         6\n"
     ]
    }
   ],
   "source": [
    "import numpy as np\n",
    "import pandas as pd\n",
    "\n",
    "#create a DataFrame (3x2)\n",
    "data = np.array([ [1,2], [3,4], [5,6]])\n",
    "columns = ['temp', 'pressure']\n",
    "frame = pd.DataFrame(data=data, columns=columns)\n",
    "print(frame)\n",
    "\n"
   ]
  },
  {
   "cell_type": "code",
   "execution_count": 5,
   "id": "f5db1c97-eb95-46ac-a3ab-81b3af8fdfca",
   "metadata": {},
   "outputs": [
    {
     "name": "stdout",
     "output_type": "stream",
     "text": [
      "   temp  pressure  new_pressure\n",
      "0     1         2            12\n",
      "1     3         4            14\n",
      "2     5         6            16\n"
     ]
    }
   ],
   "source": [
    "# Add new column\n",
    "frame[\"new_pressure\"] = frame[\"pressure\"] + 10\n",
    "print(frame)"
   ]
  },
  {
   "cell_type": "code",
   "execution_count": 13,
   "id": "fc9b87b9-48fd-4ab4-9cc3-7d8394fac2d1",
   "metadata": {},
   "outputs": [
    {
     "name": "stdout",
     "output_type": "stream",
     "text": [
      "   temp  pressure  new_pressure\n",
      "0     1         2            12\n",
      "1     3         4            14\n"
     ]
    }
   ],
   "source": [
    "# Select 2 rows\n",
    "print(frame.head(2))"
   ]
  },
  {
   "cell_type": "code",
   "execution_count": 12,
   "id": "57ffc446-9480-4ddd-b3ca-cab32ce2b719",
   "metadata": {},
   "outputs": [
    {
     "name": "stdout",
     "output_type": "stream",
     "text": [
      "   temp  pressure  new_pressure\n",
      "2     5         6            16\n",
      "   temp  pressure  new_pressure\n",
      "0     1         2            12\n"
     ]
    }
   ],
   "source": [
    "# Select row index#2\n",
    "print(frame.iloc[[2]])\n",
    "\n",
    "# Select row index#0\n",
    "print(frame.iloc[[0]])"
   ]
  },
  {
   "cell_type": "code",
   "execution_count": 18,
   "id": "f323989d-f754-4a0c-b239-169705e6c1a4",
   "metadata": {},
   "outputs": [
    {
     "name": "stdout",
     "output_type": "stream",
     "text": [
      "   temp  pressure  new_pressure\n",
      "1     3         4            14\n",
      "2     5         6            16\n"
     ]
    }
   ],
   "source": [
    "# Select row#1,2\n",
    "print(frame[1:3])"
   ]
  },
  {
   "cell_type": "code",
   "execution_count": 19,
   "id": "0feb073f-9090-4abc-9a94-64cd4f563b1d",
   "metadata": {},
   "outputs": [
    {
     "name": "stdout",
     "output_type": "stream",
     "text": [
      "   Eleanor  Chidi  Tahani  Jason\n",
      "0       83     69       6     80\n",
      "1       26     40      10     26\n",
      "2       13     91      29     61\n"
     ]
    }
   ],
   "source": [
    "#Task\n",
    "columns = ['Eleanor', 'Chidi', 'Tahani', 'Jason']\n",
    "data = np.random.randint(low=0, high=101, size=(3,4))\n",
    "frame = pd.DataFrame(data=data, columns=columns)\n",
    "print(frame)"
   ]
  },
  {
   "cell_type": "code",
   "execution_count": 44,
   "id": "82001dc8-5df7-494e-87cb-df4424f860cd",
   "metadata": {},
   "outputs": [
    {
     "name": "stdout",
     "output_type": "stream",
     "text": [
      "83\n"
     ]
    }
   ],
   "source": [
    "print(frame['Eleanor'][0])\n"
   ]
  },
  {
   "cell_type": "code",
   "execution_count": null,
   "id": "232777e8-2e92-4049-bed0-3ddf9bcee1bc",
   "metadata": {},
   "outputs": [],
   "source": []
  }
 ],
 "metadata": {
  "kernelspec": {
   "display_name": "Python 3 (ipykernel)",
   "language": "python",
   "name": "python3"
  },
  "language_info": {
   "codemirror_mode": {
    "name": "ipython",
    "version": 3
   },
   "file_extension": ".py",
   "mimetype": "text/x-python",
   "name": "python",
   "nbconvert_exporter": "python",
   "pygments_lexer": "ipython3",
   "version": "3.12.7"
  }
 },
 "nbformat": 4,
 "nbformat_minor": 5
}
